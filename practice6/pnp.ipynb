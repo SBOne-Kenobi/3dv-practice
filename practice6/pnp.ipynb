{
 "cells": [
  {
   "cell_type": "code",
   "execution_count": 3,
   "outputs": [],
   "source": [
    "import cv2\n",
    "import numpy as np\n",
    "import matplotlib.pyplot as plt\n",
    "from transforms3d.euler import euler2mat\n",
    "\n",
    "%matplotlib inline\n",
    "plt.rcParams['figure.figsize'] = (10, 5)"
   ],
   "metadata": {
    "collapsed": false,
    "pycharm": {
     "name": "#%%\n"
    }
   }
  },
  {
   "cell_type": "markdown",
   "metadata": {},
   "source": [
    "# Введение\n",
    "\n",
    "Продолжим работать с усеченной пирамидой с предыдущей практики:"
   ]
  },
  {
   "cell_type": "code",
   "execution_count": 4,
   "metadata": {
    "pycharm": {
     "name": "#%%\n"
    }
   },
   "outputs": [],
   "source": [
    "VERTICES_GT = np.array([\n",
    "    [-1.5, 1, -1.5],\n",
    "    [1.5, 1, -1.5],\n",
    "    [1.5, 1, 1.5],\n",
    "    [-1.5, 1, 1.5],\n",
    "    [-1, -1, -1],\n",
    "    [1, -1, -1],\n",
    "    [1, -1, 1],\n",
    "    [-1, -1, 1]\n",
    "])"
   ]
  },
  {
   "cell_type": "markdown",
   "metadata": {
    "pycharm": {
     "name": "#%% md\n"
    }
   },
   "source": [
    "Ширина и высота кадра, а также матрица внутренних параметров камеры `PROJ_MAT`,\n",
    "которые будем использовать для отрисовки изображений:"
   ]
  },
  {
   "cell_type": "code",
   "execution_count": 5,
   "metadata": {
    "pycharm": {
     "name": "#%%\n"
    }
   },
   "outputs": [],
   "source": [
    "IMG_WIDTH = 800\n",
    "IMG_HEIGHT = 600\n",
    "\n",
    "fx = fy = 400\n",
    "cx = IMG_WIDTH / 2\n",
    "cy = IMG_HEIGHT / 2\n",
    "\n",
    "PROJ_MAT = np.array([\n",
    "    [fx, 0, cx, 0],\n",
    "    [0, fy, cy, 0],\n",
    "    [0, 0, 0, 1],\n",
    "    [0, 0, 1, 0]\n",
    "])"
   ]
  },
  {
   "cell_type": "markdown",
   "metadata": {},
   "source": [
    "Также воспользуемся вспомогательными функциями для отрисовки пирамиды,\n",
    "проецирования точек и конструирования матрицы трансформации $4\\times4$"
   ]
  },
  {
   "cell_type": "code",
   "execution_count": 6,
   "metadata": {
    "pycharm": {
     "name": "#%%\n"
    }
   },
   "outputs": [],
   "source": [
    "def draw_pyramid(points2d, edge_color=(0, 1, 0), vertex_color=(1, 0, 0)):\n",
    "    img = np.zeros((IMG_HEIGHT, IMG_WIDTH, 3))\n",
    "    int_tuples = [tuple(map(int, p)) for p in points2d]\n",
    "    point_size = 5\n",
    "    edge_thickness = 2\n",
    "    edges = [\n",
    "        [0, 1],\n",
    "        [1, 2],\n",
    "        [2, 3],\n",
    "        [3, 0],\n",
    "        [4, 5],\n",
    "        [5, 6],\n",
    "        [6, 7],\n",
    "        [7, 4],\n",
    "        [0, 4],\n",
    "        [1, 5],\n",
    "        [2, 6],\n",
    "        [3, 7]\n",
    "    ]\n",
    "    for i, j in edges:\n",
    "        u = int_tuples[i]\n",
    "        v = int_tuples[j]\n",
    "        cv2.line(img, u, v, edge_color, edge_thickness)\n",
    "    for u in int_tuples:\n",
    "        cv2.circle(img, u, point_size, vertex_color, -1)\n",
    "    return img\n",
    "\n",
    "def project_points3d(points3d, pmat):\n",
    "    points4d = np.hstack((\n",
    "        points3d,\n",
    "        np.ones((points3d.shape[0], 1))\n",
    "    ))\n",
    "    points4d = (pmat @ points4d.T).T\n",
    "    points4d /= points4d[:, 3].reshape(-1, 1)\n",
    "    return points4d[:, :2]\n",
    "\n",
    "def rmat_and_tvec_to_mat4x4(rmat, tvec):\n",
    "    mat = np.eye(4)\n",
    "    mat[:3, :3] = rmat\n",
    "    mat[:3, 3] = tvec\n",
    "    return mat"
   ]
  },
  {
   "cell_type": "markdown",
   "metadata": {},
   "source": [
    "Рассмотрим пару изображений пирамиды, снятых на камеру в позициях `camera_pose_1` и `camera_pose_2`. Точки `POINTS2D_1_GT` и `POINTS2D_2_GT` являются проекциями уголков пирамиды на первое и второе изображения соответственно."
   ]
  },
  {
   "cell_type": "code",
   "execution_count": 7,
   "metadata": {},
   "outputs": [],
   "source": [
    "camera_pose_1 = rmat_and_tvec_to_mat4x4(\n",
    "    euler2mat(0, np.deg2rad(-75.0), 0),\n",
    "    np.array([4, 0, -1]))\n",
    "view_proj_1 = PROJ_MAT @ np.linalg.inv(camera_pose_1)\n",
    "\n",
    "camera_pose_2 = rmat_and_tvec_to_mat4x4(\n",
    "    euler2mat(np.deg2rad(-30), np.deg2rad(-75.0), 0),\n",
    "    np.array([4, -2, -1]))\n",
    "view_proj_2 = PROJ_MAT @ np.linalg.inv(camera_pose_2)\n",
    "\n",
    "POINTS2D_1_GT = np.array([\n",
    "    [252.87281294, 377.17266338],\n",
    "    [202.22139979, 475.02367959],\n",
    "    [630.94010768, 430.63945295],\n",
    "    [466.53488296, 367.11815194],\n",
    "    [292.82032303, 217.17790557],\n",
    "    [292.82032303, 161.96317595],\n",
    "    [535.31524863, 182.88394431],\n",
    "    [447.70709229, 225.19543471]\n",
    "])\n",
    "\n",
    "POINTS2D_2_GT = np.array([\n",
    "    [272.66377692, 300.43314088],\n",
    "    [270.08456983, 467.32189182],\n",
    "    [570.3194412 , 402.81647169],\n",
    "    [459.52740742, 277.07658349],\n",
    "    [289.45454807, 167.69783669],\n",
    "    [296.80086176, 222.53146862],\n",
    "    [533.65518792, 202.63480128],\n",
    "    [449.71917197, 159.07976857]\n",
    "])\n"
   ]
  },
  {
   "cell_type": "markdown",
   "metadata": {
    "pycharm": {
     "name": "#%% md\n"
    }
   },
   "source": [
    "# Задание 1\n",
    "\n",
    "\n",
    "Реализуйте функцию `triangulate_points` для триангуляции точек пары изображений.\n",
    "На вход передаются: соответствующие точки пары изображений, позиции камер, матрица внутренних параметров камеры. Обратите внимание, что на лекции мы написали решение для матрицы проекции $3\\times4$. В данном задании необходимо написать аналогичное решение для матрицы проекции $4\\times4$.\n"
   ]
  },
  {
   "cell_type": "code",
   "execution_count": 14,
   "metadata": {
    "pycharm": {
     "name": "#%%\n"
    }
   },
   "outputs": [],
   "source": [
    "def triangulate_points(points2d_1, points2d_2, camera_pose_1, camera_pose_2, proj_mat):\n",
    "    p1 = proj_mat @ np.linalg.inv(camera_pose_1)\n",
    "    p2 = proj_mat @ np.linalg.inv(camera_pose_2)\n",
    "\n",
    "    res = []\n",
    "\n",
    "    for i in range(len(points2d_1)):\n",
    "        u1, v1 = points2d_1[i][0], points2d_1[i][1]\n",
    "        u2, v2 = points2d_2[i][0], points2d_2[i][1]\n",
    "        A = np.array([\n",
    "            p1[3] * u1 - p1[0],\n",
    "            p1[3] * v1 - p1[1],\n",
    "            p2[3] * u2 - p2[0],\n",
    "            p2[3] * v2 - p2[1],\n",
    "        ])\n",
    "        r = np.linalg.svd(A)[2][3]\n",
    "        res.append(r[:3] / r[3])\n",
    "\n",
    "    return np.array(res)\n"
   ]
  },
  {
   "cell_type": "markdown",
   "metadata": {
    "pycharm": {
     "name": "#%% md\n"
    }
   },
   "source": [
    "Триангулируем точки нашей пирамиды для заданной пары кадров:"
   ]
  },
  {
   "cell_type": "code",
   "execution_count": 15,
   "metadata": {
    "pycharm": {
     "name": "#%%\n"
    }
   },
   "outputs": [],
   "source": [
    "points3d = triangulate_points(POINTS2D_1_GT, POINTS2D_2_GT,\n",
    "                              camera_pose_1, camera_pose_2, PROJ_MAT)\n",
    "assert np.linalg.norm(VERTICES_GT - points3d) < 1e-5\n"
   ]
  },
  {
   "cell_type": "markdown",
   "metadata": {
    "pycharm": {
     "name": "#%% md\n"
    }
   },
   "source": [
    "# Задание 2\n",
    "\n",
    "1. Реализуйте функцию для вычисления ошибок репроекции `compute_reprojection_errors`."
   ]
  },
  {
   "cell_type": "code",
   "execution_count": null,
   "metadata": {
    "pycharm": {
     "name": "#%%\n"
    }
   },
   "outputs": [],
   "source": [
    "def compute_reprojection_errors(points3d, points2d, view_proj):\n",
    "    pass # TODO implement\n"
   ]
  },
  {
   "cell_type": "markdown",
   "metadata": {
    "pycharm": {
     "name": "#%% md\n"
    }
   },
   "source": [
    "2. При помощи функции `add_noize_to_points` добавьте шум к точкам второго изображения, и посчитайте среднюю ошибку репроекции."
   ]
  },
  {
   "cell_type": "code",
   "execution_count": null,
   "metadata": {
    "pycharm": {
     "name": "#%%\n"
    }
   },
   "outputs": [],
   "source": [
    "def add_noize_to_points(points, noise_scale):\n",
    "    return points + np.random.normal(scale=noise_scale, size=points.shape)"
   ]
  },
  {
   "cell_type": "markdown",
   "metadata": {
    "pycharm": {
     "name": "#%% md\n"
    }
   },
   "source": [
    "3. Реализуйте функцию для рисования невязок – разниц между исходными точками на изображении и проекциями полученных триангулированных точек. Для этого воспользуйтесь функциями `cv2.circle` и `cv2.line`."
   ]
  },
  {
   "cell_type": "code",
   "execution_count": null,
   "metadata": {
    "pycharm": {
     "name": "#%%\n"
    }
   },
   "outputs": [],
   "source": [
    "\n",
    "def draw_residuals(img, points2d_src, points2d_tgt, radius=3):\n",
    "    pass # TODO implement"
   ]
  },
  {
   "cell_type": "markdown",
   "metadata": {
    "pycharm": {
     "name": "#%% md\n"
    }
   },
   "source": [
    "4. Поэкспериментируте с изменением `noise_scale` и посмотрите как будет меняться средняя ошибка репроекции и невязки."
   ]
  },
  {
   "cell_type": "markdown",
   "metadata": {},
   "source": [
    "# Задание 3\n",
    "\n",
    "Реализуйте функцию `calc_triangulation_angles` для вычисления углов между лучами из пары камер `camera_pose_1` и `camera_pose_2` в точки `points3d`.\n",
    "Поэкспериментируйте с измением позиций камер и с изменением `noise_scale`. Посмотрите как будут меняться углы триангуляции."
   ]
  },
  {
   "cell_type": "code",
   "execution_count": null,
   "metadata": {
    "pycharm": {
     "name": "#%%\n"
    }
   },
   "outputs": [],
   "source": [
    "def calc_triangulation_angles(camera_pose_1, camera_pose_2, points3d):\n",
    "    pass # TODO implement"
   ]
  },
  {
   "cell_type": "markdown",
   "metadata": {
    "pycharm": {
     "name": "#%% md\n"
    }
   },
   "source": [
    "# Задание 4\n",
    "\n",
    "Реализуйте функцию `solve_pnp` для вычисления позиции камеры по заданным 2D–3D соответствиям с использованием функции `cv2.solvePnP`\n",
    "Посчитайте ошибку репроекции для результата PnP. Поэкспериментируйте с изменением `noise_scale`, и с выбором различных методов решения в функции `cv2.solvePnP`."
   ]
  },
  {
   "cell_type": "code",
   "execution_count": null,
   "metadata": {
    "pycharm": {
     "name": "#%%\n"
    }
   },
   "outputs": [],
   "source": [
    "def solve_pnp(points2d, poinst3d, proj_mat):\n",
    "    pass # TODO implement\n",
    "\n",
    "estimated_camera_pose_2 = solve_pnp(POINTS2D_2_GT, VERTICES_GT, PROJ_MAT)\n",
    "assert np.linalg.norm(camera_pose_2 - estimated_camera_pose_2) < 1e-5\n"
   ]
  },
  {
   "cell_type": "markdown",
   "metadata": {},
   "source": [
    "# Задание 5\n",
    "\n",
    "Реализуйте функцию `solve_pnp_ransac` для вычисления позиции камеры по заданным 2D–3D соответствиям с использованием функции `cv2.solvePnPRansac`.\n",
    "Поэкспериментируйте с изменением `noise_scale` и `max_error`."
   ]
  },
  {
   "cell_type": "code",
   "execution_count": null,
   "metadata": {
    "pycharm": {
     "name": "#%%\n"
    }
   },
   "outputs": [],
   "source": [
    "def solve_pnp_ransac(points2d, poinst3d, proj_mat, iter_count, max_error):\n",
    "    pass # TODO implement"
   ]
  },
  {
   "cell_type": "markdown",
   "metadata": {},
   "source": [
    "# Задание 6*\n",
    "Сгенерируем синтетическую последовательность позиций камер и спроецируем в соответствии с позициями вершины пирамиды. Добавим шум в спроецированные точки.\n"
   ]
  },
  {
   "cell_type": "code",
   "execution_count": null,
   "metadata": {
    "pycharm": {
     "name": "#%%\n"
    }
   },
   "outputs": [],
   "source": [
    "def generate_camera_poses(camera_euler_deg_0, camera_tvec_0, k):\n",
    "    cur_euler_deg = camera_euler_deg_0\n",
    "    cur_tvec = camera_tvec_0\n",
    "\n",
    "    poses = []\n",
    "    for i in range(k):\n",
    "        cur_euler_deg += np.random.normal(scale=0.1, size=camera_euler_deg_0.shape)\n",
    "        cur_euler_rad = np.deg2rad(cur_euler_deg)\n",
    "        cur_tvec += np.random.normal(scale=0.1, size=camera_tvec_0.shape)\n",
    "        cur_pos = rmat_and_tvec_to_mat4x4(\n",
    "            euler2mat(cur_euler_rad[0], cur_euler_rad[1], cur_euler_rad[2]),\n",
    "            cur_tvec)\n",
    "        poses.append(cur_pos)\n",
    "    return poses\n",
    "\n",
    "camera_poses = generate_camera_poses(\n",
    "    np.array([0.0, -75.0, 0.0]), np.array([4.0, 0.0, -1.0]), 50)\n",
    "projected_points2d = [\n",
    "    project_points3d(VERTICES_GT,\n",
    "                     PROJ_MAT @ np.linalg.inv(pos)) for pos in camera_poses]\n",
    "noized_projected_points2d = [\n",
    "    add_noize_to_points(points2d, 5.0) for points2d in projected_points2d]"
   ]
  },
  {
   "cell_type": "markdown",
   "metadata": {},
   "source": [
    "1. Для каждой пары кадров триангулируйте `noized_projected_points2d` точки. Выберите лучшую пару на основе ошибок репроекции и углов триангуляции.\n",
    "2. Используя триангулированные 3D точки и соответствующие им на каждом кадре `noized_projected_points2d` решите задачу PnP для каждого кадра.\n",
    "3. Ретриангулируйте точки используя все кадры."
   ]
  },
  {
   "cell_type": "code",
   "execution_count": null,
   "metadata": {
    "pycharm": {
     "name": "#%%\n"
    }
   },
   "outputs": [],
   "source": []
  }
 ],
 "metadata": {
  "kernelspec": {
   "display_name": "Python 3",
   "language": "python",
   "name": "python3"
  },
  "language_info": {
   "codemirror_mode": {
    "name": "ipython",
    "version": 3
   },
   "file_extension": ".py",
   "mimetype": "text/x-python",
   "name": "python",
   "nbconvert_exporter": "python",
   "pygments_lexer": "ipython3",
   "version": "3.7.4"
  }
 },
 "nbformat": 4,
 "nbformat_minor": 1
}